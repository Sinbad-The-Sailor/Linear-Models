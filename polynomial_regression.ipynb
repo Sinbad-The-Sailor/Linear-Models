{
 "cells": [
  {
   "cell_type": "markdown",
   "metadata": {},
   "source": [
    "### Polynomial Regression\n",
    "\n",
    "We want to model the strength of iron welded together with the current used during the welding process. Thus, we only have one feature to model.\n",
    "\n",
    "\n",
    "Firstly, we examine the data to find a suitable model."
   ]
  },
  {
   "cell_type": "code",
   "execution_count": 2,
   "metadata": {},
   "outputs": [],
   "source": [
    "import numpy as np\n",
    "import pandas as pd\n",
    "\n",
    "from matplotlib import pyplot as plt\n",
    "\n",
    "# Plotting configuration\n",
    "%config InlineBackend.figure_format = 'retina'\n",
    "plt.style.use(['science', 'notebook', 'grid'])"
   ]
  },
  {
   "cell_type": "code",
   "execution_count": 5,
   "metadata": {},
   "outputs": [
    {
     "data": {
      "text/html": [
       "<div>\n",
       "<style scoped>\n",
       "    .dataframe tbody tr th:only-of-type {\n",
       "        vertical-align: middle;\n",
       "    }\n",
       "\n",
       "    .dataframe tbody tr th {\n",
       "        vertical-align: top;\n",
       "    }\n",
       "\n",
       "    .dataframe thead th {\n",
       "        text-align: right;\n",
       "    }\n",
       "</style>\n",
       "<table border=\"1\" class=\"dataframe\">\n",
       "  <thead>\n",
       "    <tr style=\"text-align: right;\">\n",
       "      <th></th>\n",
       "      <th>y</th>\n",
       "      <th>x</th>\n",
       "    </tr>\n",
       "  </thead>\n",
       "  <tbody>\n",
       "    <tr>\n",
       "      <th>0</th>\n",
       "      <td>80.197118</td>\n",
       "      <td>-2.566618</td>\n",
       "    </tr>\n",
       "    <tr>\n",
       "      <th>1</th>\n",
       "      <td>96.100338</td>\n",
       "      <td>-2.126984</td>\n",
       "    </tr>\n",
       "    <tr>\n",
       "      <th>2</th>\n",
       "      <td>102.216391</td>\n",
       "      <td>-2.041836</td>\n",
       "    </tr>\n",
       "    <tr>\n",
       "      <th>3</th>\n",
       "      <td>115.876434</td>\n",
       "      <td>-0.949271</td>\n",
       "    </tr>\n",
       "    <tr>\n",
       "      <th>4</th>\n",
       "      <td>111.296920</td>\n",
       "      <td>-0.771169</td>\n",
       "    </tr>\n",
       "  </tbody>\n",
       "</table>\n",
       "</div>"
      ],
      "text/plain": [
       "            y         x\n",
       "0   80.197118 -2.566618\n",
       "1   96.100338 -2.126984\n",
       "2  102.216391 -2.041836\n",
       "3  115.876434 -0.949271\n",
       "4  111.296920 -0.771169"
      ]
     },
     "execution_count": 5,
     "metadata": {},
     "output_type": "execute_result"
    }
   ],
   "source": [
    "df = pd.read_csv('data/polynomial_regression.csv')\n",
    "df.head()"
   ]
  },
  {
   "cell_type": "code",
   "execution_count": 27,
   "metadata": {},
   "outputs": [
    {
     "data": {
      "image/png": "[encoded data removed]",
      "text/plain": [
       "<Figure size 360x288 with 1 Axes>"
      ]
     },
     "metadata": {
      "image/png": {
       "height": 261,
       "width": 320
      },
      "needs_background": "light"
     },
     "output_type": "display_data"
    }
   ],
   "source": [
    "fig, ax = plt.subplots()\n",
    "ax.scatter(df['x'], df['y'])\n",
    "ax.set_title('Welding Strength v. Current')\n",
    "\n",
    "fig.set_size_inches(5, 4)\n",
    "plt.show()"
   ]
  },
  {
   "cell_type": "markdown",
   "metadata": {},
   "source": [
    "### Model Selection\n",
    "\n",
    "The data is suggesting a polynomial fit. A hypothesised model would be:\n",
    "\n",
    "$$\n",
    "Y_i = \\beta_0 + \\beta_1 x + \\beta_2 x^2 + \\beta_3 x^3 +\\varepsilon_i\n",
    "$$\n",
    "\n",
    "To estimate $\\hat{\\mathbf{\\beta}}$ we solve the OLS problem using the normal equations, yielding:\n",
    "$$\n",
    "\\hat{\\mathbf{\\beta}} =\\mathbf{X}^{\\dagger}\\mathbf{Y} = (\\mathbf{X}^{\\text{T}}\\mathbf{X})^{-1}\\mathbf{X}^{\\text{T}}\\mathbf{Y}\n",
    "$$\n",
    "\n",
    "Using the design matrix $\\mathbf{X}$ and output data $\\mathbf{Y}$. In addition, we will calculate $R^2$, to esimate how well the model works on the training data. Recall:\n",
    "$$\n",
    "R^2 = 1 - \\frac{\\text{SSE}}{\\text{SST}}\n",
    "$$\n",
    "\n",
    "In which:\n",
    "\n",
    "$$\n",
    "\\text{SST} = \\sum_{i=1}^n(y_i - \\bar{y})^2\n",
    "$$\n",
    "$$\n",
    "\\text{SSE} = \\sum_{i=1}^n(y_i - \\hat{y}_i)^2\n",
    "$$"
   ]
  },
  {
   "cell_type": "code",
   "execution_count": 45,
   "metadata": {},
   "outputs": [
    {
     "name": "stdout",
     "output_type": "stream",
     "text": [
      "OLS beta coefficients: [ 99.31736762 -26.31042095  -3.3667638    4.1069712 ]\n",
      "R-square value: 0.9871777691798865\n"
     ]
    }
   ],
   "source": [
    "# Creating the design matrix.\n",
    "n_observations = len(df)\n",
    "x0 = np.ones(n_observations)\n",
    "x1 = np.array(df['x'])\n",
    "x2 = np.array((df['x'] ** 2))\n",
    "x3 = np.array((df['x'] ** 3))\n",
    "X = np.stack([x0, x1, x2, x3]).T\n",
    "Y = np.array(df['y'])\n",
    "\n",
    "# Solving the normal equations.\n",
    "beta_ols = np.linalg.inv(X.T @ X) @ X.T @ Y\n",
    "H_hat = X @ np.linalg.inv(X.T @ X) @ X.T\n",
    "print('OLS beta coefficients:', beta_ols)\n",
    "\n",
    "# Calculating R2.\n",
    "sst = (Y - np.mean(Y)).T @ (Y - np.mean(Y))\n",
    "sse = (Y - H_hat @ Y).T @ (Y - H_hat @ Y)\n",
    "r2 = 1 - sse / sst\n",
    "print('R-square value:', r2)"
   ]
  },
  {
   "cell_type": "code",
   "execution_count": 30,
   "metadata": {},
   "outputs": [],
   "source": [
    "# Plotting the mean - model.\n"
   ]
  },
  {
   "cell_type": "markdown",
   "metadata": {},
   "source": [
    "### Tikhonov Regularization (L2 Ridge Regression)"
   ]
  },
  {
   "cell_type": "markdown",
   "metadata": {},
   "source": [
    "### Confidence and Prediction Bands"
   ]
  }
 ],
 "metadata": {
  "interpreter": {
   "hash": "aee8b7b246df8f9039afb4144a1f6fd8d2ca17a180786b69acc140d282b71a49"
  },
  "kernelspec": {
   "display_name": "Python 3.9.7 64-bit",
   "language": "python",
   "name": "python3"
  },
  "language_info": {
   "codemirror_mode": {
    "name": "ipython",
    "version": 3
   },
   "file_extension": ".py",
   "mimetype": "text/x-python",
   "name": "python",
   "nbconvert_exporter": "python",
   "pygments_lexer": "ipython3",
   "version": "3.9.7"
  },
  "orig_nbformat": 4
 },
 "nbformat": 4,
 "nbformat_minor": 2
}
